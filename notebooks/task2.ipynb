{
 "cells": [
  {
   "cell_type": "code",
   "execution_count": 1,
   "id": "61a4f1eb",
   "metadata": {},
   "outputs": [],
   "source": [
    "import pandas as pd\n",
    "import numpy as np\n",
    "from sklearn.base import BaseEstimator, TransformerMixin\n",
    "from sklearn.pipeline import Pipeline\n",
    "from sklearn.preprocessing import OneHotEncoder, StandardScaler\n",
    "from sklearn.compose import ColumnTransformer\n",
    "from sklearn.model_selection import cross_val_score\n",
    "import xgboost as xgb\n",
    "from sklearn.metrics import mean_squared_error\n",
    "import matplotlib.pyplot as plt\n",
    "import graphviz"
   ]
  },
  {
   "cell_type": "code",
   "execution_count": 47,
   "id": "0b6c292f",
   "metadata": {},
   "outputs": [],
   "source": [
    "import mlflow"
   ]
  },
  {
   "cell_type": "code",
   "execution_count": 3,
   "id": "96a9844d",
   "metadata": {},
   "outputs": [],
   "source": [
    "autolog()"
   ]
  },
  {
   "cell_type": "markdown",
   "id": "ecdc7aff",
   "metadata": {},
   "source": [
    "## Read data"
   ]
  },
  {
   "cell_type": "code",
   "execution_count": 7,
   "id": "1a753875",
   "metadata": {},
   "outputs": [],
   "source": [
    "df = pd.read_csv('data/AdSmartABdata.csv', parse_dates=['date'])"
   ]
  },
  {
   "cell_type": "code",
   "execution_count": null,
   "id": "93a57cd0",
   "metadata": {},
   "outputs": [],
   "source": [
    "df.head()"
   ]
  },
  {
   "cell_type": "code",
   "execution_count": 8,
   "id": "20c70e2e",
   "metadata": {},
   "outputs": [
    {
     "data": {
      "text/html": [
       "<div>\n",
       "<style scoped>\n",
       "    .dataframe tbody tr th:only-of-type {\n",
       "        vertical-align: middle;\n",
       "    }\n",
       "\n",
       "    .dataframe tbody tr th {\n",
       "        vertical-align: top;\n",
       "    }\n",
       "\n",
       "    .dataframe thead th {\n",
       "        text-align: right;\n",
       "    }\n",
       "</style>\n",
       "<table border=\"1\" class=\"dataframe\">\n",
       "  <thead>\n",
       "    <tr style=\"text-align: right;\">\n",
       "      <th></th>\n",
       "      <th>hour</th>\n",
       "      <th>platform_os</th>\n",
       "      <th>yes</th>\n",
       "      <th>no</th>\n",
       "    </tr>\n",
       "  </thead>\n",
       "  <tbody>\n",
       "    <tr>\n",
       "      <th>count</th>\n",
       "      <td>8077.000000</td>\n",
       "      <td>8077.000000</td>\n",
       "      <td>8077.000000</td>\n",
       "      <td>8077.000000</td>\n",
       "    </tr>\n",
       "    <tr>\n",
       "      <th>mean</th>\n",
       "      <td>11.615080</td>\n",
       "      <td>5.947134</td>\n",
       "      <td>0.070818</td>\n",
       "      <td>0.083075</td>\n",
       "    </tr>\n",
       "    <tr>\n",
       "      <th>std</th>\n",
       "      <td>5.734879</td>\n",
       "      <td>0.224333</td>\n",
       "      <td>0.256537</td>\n",
       "      <td>0.276013</td>\n",
       "    </tr>\n",
       "    <tr>\n",
       "      <th>min</th>\n",
       "      <td>0.000000</td>\n",
       "      <td>5.000000</td>\n",
       "      <td>0.000000</td>\n",
       "      <td>0.000000</td>\n",
       "    </tr>\n",
       "    <tr>\n",
       "      <th>25%</th>\n",
       "      <td>7.000000</td>\n",
       "      <td>6.000000</td>\n",
       "      <td>0.000000</td>\n",
       "      <td>0.000000</td>\n",
       "    </tr>\n",
       "    <tr>\n",
       "      <th>50%</th>\n",
       "      <td>13.000000</td>\n",
       "      <td>6.000000</td>\n",
       "      <td>0.000000</td>\n",
       "      <td>0.000000</td>\n",
       "    </tr>\n",
       "    <tr>\n",
       "      <th>75%</th>\n",
       "      <td>15.000000</td>\n",
       "      <td>6.000000</td>\n",
       "      <td>0.000000</td>\n",
       "      <td>0.000000</td>\n",
       "    </tr>\n",
       "    <tr>\n",
       "      <th>max</th>\n",
       "      <td>23.000000</td>\n",
       "      <td>7.000000</td>\n",
       "      <td>1.000000</td>\n",
       "      <td>1.000000</td>\n",
       "    </tr>\n",
       "  </tbody>\n",
       "</table>\n",
       "</div>"
      ],
      "text/plain": [
       "              hour  platform_os          yes           no\n",
       "count  8077.000000  8077.000000  8077.000000  8077.000000\n",
       "mean     11.615080     5.947134     0.070818     0.083075\n",
       "std       5.734879     0.224333     0.256537     0.276013\n",
       "min       0.000000     5.000000     0.000000     0.000000\n",
       "25%       7.000000     6.000000     0.000000     0.000000\n",
       "50%      13.000000     6.000000     0.000000     0.000000\n",
       "75%      15.000000     6.000000     0.000000     0.000000\n",
       "max      23.000000     7.000000     1.000000     1.000000"
      ]
     },
     "execution_count": 8,
     "metadata": {},
     "output_type": "execute_result"
    }
   ],
   "source": [
    "df.describe()"
   ]
  },
  {
   "cell_type": "code",
   "execution_count": null,
   "id": "1c1f0fdb",
   "metadata": {},
   "outputs": [],
   "source": [
    "df.info()"
   ]
  },
  {
   "cell_type": "markdown",
   "id": "81e957db",
   "metadata": {},
   "source": [
    "# Counts of categorical Variables"
   ]
  },
  {
   "cell_type": "markdown",
   "id": "483808f5",
   "metadata": {},
   "source": [
    "## Experiment value counts"
   ]
  },
  {
   "cell_type": "code",
   "execution_count": 9,
   "id": "a9d0fd59",
   "metadata": {},
   "outputs": [
    {
     "data": {
      "text/plain": [
       "control    4071\n",
       "exposed    4006\n",
       "Name: experiment, dtype: int64"
      ]
     },
     "execution_count": 9,
     "metadata": {},
     "output_type": "execute_result"
    }
   ],
   "source": [
    "df['experiment'].value_counts()"
   ]
  },
  {
   "cell_type": "markdown",
   "id": "7e05d18f",
   "metadata": {},
   "source": [
    "## Experiment value visualization"
   ]
  },
  {
   "cell_type": "code",
   "execution_count": 10,
   "id": "0fb0929f",
   "metadata": {
    "scrolled": false
   },
   "outputs": [
    {
     "data": {
      "text/plain": [
       "<AxesSubplot:>"
      ]
     },
     "execution_count": 10,
     "metadata": {},
     "output_type": "execute_result"
    },
    {
     "data": {
      "image/png": "[encoded data removed]",
      "text/plain": [
       "<Figure size 432x288 with 1 Axes>"
      ]
     },
     "metadata": {
      "needs_background": "light"
     },
     "output_type": "display_data"
    }
   ],
   "source": [
    "df['experiment'].value_counts().plot(kind='bar')"
   ]
  },
  {
   "cell_type": "markdown",
   "id": "8ebed211",
   "metadata": {},
   "source": [
    "## Device make value counts"
   ]
  },
  {
   "cell_type": "code",
   "execution_count": 11,
   "id": "3cabe4fc",
   "metadata": {
    "scrolled": true
   },
   "outputs": [
    {
     "data": {
      "text/plain": [
       "Generic Smartphone    4743\n",
       "iPhone                 433\n",
       "Samsung SM-G960F       203\n",
       "Samsung SM-G973F       154\n",
       "Samsung SM-G950F       148\n",
       "                      ... \n",
       "IMO $2                   1\n",
       "Samsung SM-A305F         1\n",
       "Samsung SM-G930U         1\n",
       "Samsung SM-G570F         1\n",
       "5008Y_EEA                1\n",
       "Name: device_make, Length: 270, dtype: int64"
      ]
     },
     "execution_count": 11,
     "metadata": {},
     "output_type": "execute_result"
    }
   ],
   "source": [
    "df['device_make'].value_counts()"
   ]
  },
  {
   "cell_type": "markdown",
   "id": "e6123c22",
   "metadata": {},
   "source": [
    "## Browser value counts"
   ]
  },
  {
   "cell_type": "code",
   "execution_count": 12,
   "id": "1e5f7855",
   "metadata": {},
   "outputs": [
    {
     "data": {
      "text/plain": [
       "Chrome Mobile                 4554\n",
       "Chrome Mobile WebView         1489\n",
       "Samsung Internet               824\n",
       "Facebook                       764\n",
       "Mobile Safari                  337\n",
       "Chrome Mobile iOS               51\n",
       "Mobile Safari UI/WKWebView      44\n",
       "Opera Mobile                     3\n",
       "Chrome                           3\n",
       "Pinterest                        3\n",
       "Opera Mini                       1\n",
       "Android                          1\n",
       "Edge Mobile                      1\n",
       "Puffin                           1\n",
       "Firefox Mobile                   1\n",
       "Name: browser, dtype: int64"
      ]
     },
     "execution_count": 12,
     "metadata": {},
     "output_type": "execute_result"
    }
   ],
   "source": [
    "df['browser'].value_counts()"
   ]
  },
  {
   "cell_type": "code",
   "execution_count": 13,
   "id": "8fb7978f",
   "metadata": {},
   "outputs": [
    {
     "data": {
      "text/plain": [
       "<AxesSubplot:title={'center':'Browsers'}>"
      ]
     },
     "execution_count": 13,
     "metadata": {},
     "output_type": "execute_result"
    },
    {
     "data": {
      "image/png": "[encoded data removed]",
      "text/plain": [
       "<Figure size 432x288 with 1 Axes>"
      ]
     },
     "metadata": {
      "needs_background": "light"
     },
     "output_type": "display_data"
    }
   ],
   "source": [
    "df['browser'].value_counts().plot(kind='bar', title='Browsers')"
   ]
  },
  {
   "cell_type": "markdown",
   "id": "32dad02d",
   "metadata": {},
   "source": [
    "## Hour values plot"
   ]
  },
  {
   "cell_type": "code",
   "execution_count": 14,
   "id": "2a269cb4",
   "metadata": {
    "scrolled": true
   },
   "outputs": [
    {
     "data": {
      "text/plain": [
       "<AxesSubplot:title={'center':'Hour values'}, ylabel='Density'>"
      ]
     },
     "execution_count": 14,
     "metadata": {},
     "output_type": "execute_result"
    },
    {
     "data": {
      "image/png": "[encoded data removed]",
      "text/plain": [
       "<Figure size 432x288 with 1 Axes>"
      ]
     },
     "metadata": {
      "needs_background": "light"
     },
     "output_type": "display_data"
    }
   ],
   "source": [
    "df['hour'].plot(kind='kde', title='Hour values')"
   ]
  },
  {
   "cell_type": "markdown",
   "id": "12f54798",
   "metadata": {},
   "source": [
    "## Yes answers plot"
   ]
  },
  {
   "cell_type": "code",
   "execution_count": 15,
   "id": "49f6a014",
   "metadata": {
    "scrolled": false
   },
   "outputs": [
    {
     "data": {
      "text/plain": [
       "<AxesSubplot:title={'center':'Yes Answers'}, ylabel='Density'>"
      ]
     },
     "execution_count": 15,
     "metadata": {},
     "output_type": "execute_result"
    },
    {
     "data": {
      "image/png": "[encoded data removed]",
      "text/plain": [
       "<Figure size 432x288 with 1 Axes>"
      ]
     },
     "metadata": {
      "needs_background": "light"
     },
     "output_type": "display_data"
    }
   ],
   "source": [
    "df['yes'].plot(kind='kde', title='Yes Answers')"
   ]
  },
  {
   "cell_type": "markdown",
   "id": "4946f539",
   "metadata": {},
   "source": [
    "## No answers plot"
   ]
  },
  {
   "cell_type": "code",
   "execution_count": 16,
   "id": "49cb65d4",
   "metadata": {
    "scrolled": true
   },
   "outputs": [
    {
     "data": {
      "text/plain": [
       "<AxesSubplot:title={'center':'No Answers'}, ylabel='Density'>"
      ]
     },
     "execution_count": 16,
     "metadata": {},
     "output_type": "execute_result"
    },
    {
     "data": {
      "image/png": "[encoded data removed]",
      "text/plain": [
       "<Figure size 432x288 with 1 Axes>"
      ]
     },
     "metadata": {
      "needs_background": "light"
     },
     "output_type": "display_data"
    }
   ],
   "source": [
    "df['no'].plot(kind='kde', title='No Answers')"
   ]
  },
  {
   "cell_type": "markdown",
   "id": "75671f32",
   "metadata": {},
   "source": [
    "## Platform_Os values plot"
   ]
  },
  {
   "cell_type": "code",
   "execution_count": 17,
   "id": "b36d0bc1",
   "metadata": {},
   "outputs": [
    {
     "data": {
      "text/plain": [
       "<AxesSubplot:title={'center':'Platform_os'}, ylabel='Density'>"
      ]
     },
     "execution_count": 17,
     "metadata": {},
     "output_type": "execute_result"
    },
    {
     "data": {
      "image/png": "[encoded data removed]",
      "text/plain": [
       "<Figure size 432x288 with 1 Axes>"
      ]
     },
     "metadata": {
      "needs_background": "light"
     },
     "output_type": "display_data"
    }
   ],
   "source": [
    "df['platform_os'].plot(kind='kde', title='Platform_os')"
   ]
  },
  {
   "cell_type": "markdown",
   "id": "a1d7263e",
   "metadata": {},
   "source": [
    "## XGBoost model"
   ]
  },
  {
   "cell_type": "markdown",
   "id": "54f565a4",
   "metadata": {},
   "source": [
    "### Get index for entries with a 'yes' or 'no' answer"
   ]
  },
  {
   "cell_type": "code",
   "execution_count": 18,
   "id": "565a1bcf",
   "metadata": {},
   "outputs": [],
   "source": [
    "answered_index = ((df['yes'] == 1) | (df['no'] ==1))"
   ]
  },
  {
   "cell_type": "markdown",
   "id": "44c5a395",
   "metadata": {},
   "source": [
    "### Clean the data"
   ]
  },
  {
   "cell_type": "code",
   "execution_count": 19,
   "id": "e26e91db",
   "metadata": {},
   "outputs": [],
   "source": [
    "cleaned_df = df[answered_index].copy()\n",
    "cleaned_df.reset_index(drop=True, inplace=True)          # reset the index"
   ]
  },
  {
   "cell_type": "markdown",
   "id": "37f35951",
   "metadata": {},
   "source": [
    "### Get the data for the modeling proccess"
   ]
  },
  {
   "cell_type": "code",
   "execution_count": 20,
   "id": "90bf39de",
   "metadata": {},
   "outputs": [],
   "source": [
    "model_df = cleaned_df[cleaned_df.columns[:-1]].copy()    # create data to be used for modeling\n",
    "model_df.rename(columns={'yes':'answer'}, inplace=True)  # rename the 'yes' column to 'answer'"
   ]
  },
  {
   "cell_type": "markdown",
   "id": "1b2d9309",
   "metadata": {},
   "source": [
    "### Split data by browser and platform_os"
   ]
  },
  {
   "cell_type": "code",
   "execution_count": 21,
   "id": "b25199b7",
   "metadata": {},
   "outputs": [],
   "source": [
    "model_df_browser = model_df[['auction_id', 'experiment', 'date', 'hour', 'device_make', 'browser', 'answer']].copy()\n",
    "model_df_platform_os = model_df[['auction_id', 'experiment', 'date', 'hour', 'device_make', 'platform_os', 'answer']].copy()"
   ]
  },
  {
   "cell_type": "code",
   "execution_count": 22,
   "id": "5e566b2a",
   "metadata": {},
   "outputs": [],
   "source": [
    " train_brwsr, test_brwsr, validate_brwsr  = \\\n",
    "              np.split(model_df_browser[model_df_browser.columns[1:]].sample(frac=1, random_state=42), \n",
    "                       [int(.7*len(model_df_browser)), int(.9*len(model_df_browser))])"
   ]
  },
  {
   "cell_type": "code",
   "execution_count": 23,
   "id": "32a90f6c",
   "metadata": {},
   "outputs": [],
   "source": [
    "brwsr_X_col = model_df_browser.columns[1:-1]\n",
    "\n",
    "brwsr_train =  train_brwsr[brwsr_X_col]\n",
    "brwsr_train_labels = train_brwsr['answer']\n",
    "\n",
    "brwsr_test =  test_brwsr[brwsr_X_col]\n",
    "brwsr_test_labels = test_brwsr['answer']\n",
    "\n",
    "brwsr_val =  validate_brwsr[brwsr_X_col]\n",
    "brwsr_val_labels = validate_brwsr['answer']"
   ]
  },
  {
   "cell_type": "code",
   "execution_count": 24,
   "id": "12bb07cc",
   "metadata": {},
   "outputs": [],
   "source": [
    "numerical_browser = ['date','hour']\n",
    "cat_browser = ['experiment', 'device_make', 'browser']"
   ]
  },
  {
   "cell_type": "code",
   "execution_count": 25,
   "id": "2025bd3d",
   "metadata": {},
   "outputs": [],
   "source": [
    "class ExtractDay(BaseEstimator, TransformerMixin):\n",
    "    def __init__(self): # no *args or **kargs\n",
    "        pass\n",
    "    def fit(self, X, y=None):\n",
    "        return self               # take the date column and pss to self\n",
    "    \n",
    "    def transform(self, X, y=None):\n",
    "        X= X.copy()\n",
    "        X['date'] = X['date'].apply(lambda x:x.weekday())\n",
    "        return X"
   ]
  },
  {
   "cell_type": "code",
   "execution_count": 26,
   "id": "1ddbb427",
   "metadata": {},
   "outputs": [],
   "source": [
    "numerical_platform_os = ['date','hour','platform_os']\n",
    "cat_platform_os = ['experiment', 'device_make']"
   ]
  },
  {
   "cell_type": "code",
   "execution_count": 27,
   "id": "7258acc5",
   "metadata": {},
   "outputs": [],
   "source": [
    "num_pipeline = Pipeline([\n",
    "    ('day_extractor', ExtractDay()),\n",
    "    ('std_scaler', StandardScaler())\n",
    "])\n",
    "\n",
    "full_pipeline = ColumnTransformer([\n",
    "    ('num', num_pipeline, numerical_browser),\n",
    "    ('cat', OneHotEncoder(), numerical_browser)\n",
    "])"
   ]
  },
  {
   "cell_type": "code",
   "execution_count": 28,
   "id": "e7da8b92",
   "metadata": {},
   "outputs": [],
   "source": [
    "brswr_train_processed = full_pipeline.fit_transform(brwsr_train)\n",
    "brswr_test_processed = full_pipeline.fit_transform(brwsr_test)\n",
    "brswr_val_processed = full_pipeline.fit_transform(brwsr_val)"
   ]
  },
  {
   "cell_type": "code",
   "execution_count": 38,
   "id": "3cc7184a",
   "metadata": {},
   "outputs": [],
   "source": [
    "autolog()"
   ]
  },
  {
   "cell_type": "code",
   "execution_count": 42,
   "id": "740168c9",
   "metadata": {},
   "outputs": [],
   "source": [
    "params ={'objective':'binary:logistic', 'learning_rate':0.1, 'max_depth':5, 'random_state':42, 'use_label_encoder':False}"
   ]
  },
  {
   "cell_type": "code",
   "execution_count": null,
   "id": "fc911ebe",
   "metadata": {},
   "outputs": [],
   "source": [
    "mlflow.create_experiment('tes')"
   ]
  },
  {
   "cell_type": "code",
   "execution_count": 56,
   "id": "60531800",
   "metadata": {},
   "outputs": [],
   "source": [
    "mlflow.set_experiment('test')"
   ]
  },
  {
   "cell_type": "code",
   "execution_count": 57,
   "id": "494508ce",
   "metadata": {
    "scrolled": true
   },
   "outputs": [
    {
     "name": "stdout",
     "output_type": "stream",
     "text": [
      "[15:40:01] WARNING: ..\\src\\learner.cc:1061: Starting in XGBoost 1.3.0, the default evaluation metric used with the objective 'binary:logistic' was changed from 'error' to 'logloss'. Explicitly set eval_metric if you'd like to restore the old behavior.\n"
     ]
    },
    {
     "data": {
      "text/plain": [
       "XGBClassifier(base_score=0.5, booster='gbtree', colsample_bylevel=1,\n",
       "              colsample_bynode=1, colsample_bytree=1, gamma=0, gpu_id=-1,\n",
       "              importance_type='gain', interaction_constraints='',\n",
       "              learning_rate=0.1, max_delta_step=0, max_depth=5,\n",
       "              min_child_weight=1, missing=nan, monotone_constraints='()',\n",
       "              n_estimators=100, n_jobs=4, num_parallel_tree=1, random_state=42,\n",
       "              reg_alpha=0, reg_lambda=1, scale_pos_weight=1, subsample=1,\n",
       "              tree_method='exact', use_label_encoder=False,\n",
       "              validate_parameters=1, verbosity=None)"
      ]
     },
     "execution_count": 57,
     "metadata": {},
     "output_type": "execute_result"
    }
   ],
   "source": [
    "clf_xgb = xgb.XGBClassifier(base_score=0.5, max_depth=5, learning_rate=0.1, random_state=42, objective='binary:logistic', use_label_encoder=False)\n",
    "\n",
    "clf_xgb.fit(brswr_test_processed, brwsr_test_labels)"
   ]
  },
  {
   "cell_type": "code",
   "execution_count": 58,
   "id": "3e4704a0",
   "metadata": {},
   "outputs": [],
   "source": [
    "mlflow.xgboost.autolog(clf_xgb) "
   ]
  },
  {
   "cell_type": "code",
   "execution_count": 32,
   "id": "2cbc50eb",
   "metadata": {},
   "outputs": [],
   "source": [
    "y_predicted = clf_xgb.predict(brswr_test_processed)"
   ]
  },
  {
   "cell_type": "code",
   "execution_count": 33,
   "id": "39cd5a1e",
   "metadata": {},
   "outputs": [],
   "source": [
    "rms = mean_squared_error(brwsr_test_labels, y_predicted, squared=False)"
   ]
  },
  {
   "cell_type": "code",
   "execution_count": 34,
   "id": "63f1e2ed",
   "metadata": {},
   "outputs": [
    {
     "data": {
      "text/plain": [
       "0.5462482007056806"
      ]
     },
     "execution_count": 34,
     "metadata": {},
     "output_type": "execute_result"
    }
   ],
   "source": [
    "rms"
   ]
  },
  {
   "cell_type": "code",
   "execution_count": 35,
   "id": "918988d5",
   "metadata": {},
   "outputs": [],
   "source": [
    "data_dmatrix = xgb.DMatrix(data=brswr_val_processed, label=brwsr_val_labels)"
   ]
  },
  {
   "cell_type": "code",
   "execution_count": 41,
   "id": "17848f05",
   "metadata": {
    "scrolled": true
   },
   "outputs": [
    {
     "name": "stdout",
     "output_type": "stream",
     "text": [
      "[15:12:36] WARNING: ..\\src\\learner.cc:541: \n",
      "Parameters: { use_label_encoder } might not be used.\n",
      "\n",
      "  This may not be accurate due to some parameters are only used in language bindings but\n",
      "  passed down to XGBoost core.  Or some parameters are not used but slip through this\n",
      "  verification. Please open an issue if you find above cases.\n",
      "\n",
      "\n",
      "[15:12:36] WARNING: ..\\src\\learner.cc:541: \n",
      "Parameters: { use_label_encoder } might not be used.\n",
      "\n",
      "  This may not be accurate due to some parameters are only used in language bindings but\n",
      "  passed down to XGBoost core.  Or some parameters are not used but slip through this\n",
      "  verification. Please open an issue if you find above cases.\n",
      "\n",
      "\n",
      "[15:12:36] WARNING: ..\\src\\learner.cc:541: \n",
      "Parameters: { use_label_encoder } might not be used.\n",
      "\n",
      "  This may not be accurate due to some parameters are only used in language bindings but\n",
      "  passed down to XGBoost core.  Or some parameters are not used but slip through this\n",
      "  verification. Please open an issue if you find above cases.\n",
      "\n",
      "\n",
      "[15:12:36] WARNING: ..\\src\\learner.cc:541: \n",
      "Parameters: { use_label_encoder } might not be used.\n",
      "\n",
      "  This may not be accurate due to some parameters are only used in language bindings but\n",
      "  passed down to XGBoost core.  Or some parameters are not used but slip through this\n",
      "  verification. Please open an issue if you find above cases.\n",
      "\n",
      "\n",
      "[15:12:36] WARNING: ..\\src\\learner.cc:541: \n",
      "Parameters: { use_label_encoder } might not be used.\n",
      "\n",
      "  This may not be accurate due to some parameters are only used in language bindings but\n",
      "  passed down to XGBoost core.  Or some parameters are not used but slip through this\n",
      "  verification. Please open an issue if you find above cases.\n",
      "\n",
      "\n"
     ]
    }
   ],
   "source": [
    "cv_result = xgb.cv(params=params,dtrain=data_dmatrix, nfold=5, metrics='rmse', stratified=True, as_pandas=True, seed=42)"
   ]
  },
  {
   "cell_type": "code",
   "execution_count": 37,
   "id": "777b32ba",
   "metadata": {},
   "outputs": [
    {
     "data": {
      "text/html": [
       "<div>\n",
       "<style scoped>\n",
       "    .dataframe tbody tr th:only-of-type {\n",
       "        vertical-align: middle;\n",
       "    }\n",
       "\n",
       "    .dataframe tbody tr th {\n",
       "        vertical-align: top;\n",
       "    }\n",
       "\n",
       "    .dataframe thead th {\n",
       "        text-align: right;\n",
       "    }\n",
       "</style>\n",
       "<table border=\"1\" class=\"dataframe\">\n",
       "  <thead>\n",
       "    <tr style=\"text-align: right;\">\n",
       "      <th></th>\n",
       "      <th>train-rmse-mean</th>\n",
       "      <th>train-rmse-std</th>\n",
       "      <th>test-rmse-mean</th>\n",
       "      <th>test-rmse-std</th>\n",
       "    </tr>\n",
       "  </thead>\n",
       "  <tbody>\n",
       "    <tr>\n",
       "      <th>0</th>\n",
       "      <td>0.492157</td>\n",
       "      <td>0.001552</td>\n",
       "      <td>0.500474</td>\n",
       "      <td>0.002983</td>\n",
       "    </tr>\n",
       "    <tr>\n",
       "      <th>1</th>\n",
       "      <td>0.485125</td>\n",
       "      <td>0.003225</td>\n",
       "      <td>0.501634</td>\n",
       "      <td>0.006762</td>\n",
       "    </tr>\n",
       "    <tr>\n",
       "      <th>2</th>\n",
       "      <td>0.478705</td>\n",
       "      <td>0.004974</td>\n",
       "      <td>0.503194</td>\n",
       "      <td>0.010466</td>\n",
       "    </tr>\n",
       "    <tr>\n",
       "      <th>3</th>\n",
       "      <td>0.473251</td>\n",
       "      <td>0.006493</td>\n",
       "      <td>0.504896</td>\n",
       "      <td>0.013706</td>\n",
       "    </tr>\n",
       "    <tr>\n",
       "      <th>4</th>\n",
       "      <td>0.468045</td>\n",
       "      <td>0.008231</td>\n",
       "      <td>0.507070</td>\n",
       "      <td>0.017209</td>\n",
       "    </tr>\n",
       "    <tr>\n",
       "      <th>5</th>\n",
       "      <td>0.463675</td>\n",
       "      <td>0.009166</td>\n",
       "      <td>0.508848</td>\n",
       "      <td>0.020203</td>\n",
       "    </tr>\n",
       "    <tr>\n",
       "      <th>6</th>\n",
       "      <td>0.459619</td>\n",
       "      <td>0.010027</td>\n",
       "      <td>0.511585</td>\n",
       "      <td>0.023194</td>\n",
       "    </tr>\n",
       "    <tr>\n",
       "      <th>7</th>\n",
       "      <td>0.456067</td>\n",
       "      <td>0.010868</td>\n",
       "      <td>0.512802</td>\n",
       "      <td>0.025839</td>\n",
       "    </tr>\n",
       "    <tr>\n",
       "      <th>8</th>\n",
       "      <td>0.452709</td>\n",
       "      <td>0.011336</td>\n",
       "      <td>0.515103</td>\n",
       "      <td>0.027396</td>\n",
       "    </tr>\n",
       "    <tr>\n",
       "      <th>9</th>\n",
       "      <td>0.449853</td>\n",
       "      <td>0.011679</td>\n",
       "      <td>0.517400</td>\n",
       "      <td>0.028995</td>\n",
       "    </tr>\n",
       "  </tbody>\n",
       "</table>\n",
       "</div>"
      ],
      "text/plain": [
       "   train-rmse-mean  train-rmse-std  test-rmse-mean  test-rmse-std\n",
       "0         0.492157        0.001552        0.500474       0.002983\n",
       "1         0.485125        0.003225        0.501634       0.006762\n",
       "2         0.478705        0.004974        0.503194       0.010466\n",
       "3         0.473251        0.006493        0.504896       0.013706\n",
       "4         0.468045        0.008231        0.507070       0.017209\n",
       "5         0.463675        0.009166        0.508848       0.020203\n",
       "6         0.459619        0.010027        0.511585       0.023194\n",
       "7         0.456067        0.010868        0.512802       0.025839\n",
       "8         0.452709        0.011336        0.515103       0.027396\n",
       "9         0.449853        0.011679        0.517400       0.028995"
      ]
     },
     "execution_count": 37,
     "metadata": {},
     "output_type": "execute_result"
    }
   ],
   "source": [
    "cv_result"
   ]
  },
  {
   "cell_type": "code",
   "execution_count": 59,
   "id": "652ba29b",
   "metadata": {},
   "outputs": [
    {
     "data": {
      "image/png": "[encoded data removed]",
      "text/plain": [
       "<Figure size 432x288 with 1 Axes>"
      ]
     },
     "metadata": {
      "needs_background": "light"
     },
     "output_type": "display_data"
    }
   ],
   "source": [
    "xgb.plot_importance(clf_xgb)\n",
    "plt.rcParams['figure.figsize'] = [20, 20]"
   ]
  },
  {
   "cell_type": "code",
   "execution_count": null,
   "id": "b624e3c3",
   "metadata": {},
   "outputs": [],
   "source": [
    "train_os, test_os, validate_so  = \\\n",
    "              np.split(model_df_platform_os[model_df_platform_os.columns[1:]].sample(frac=1, random_state=42), \n",
    "                       [int(.7*len(model_df_platform_os)), int(.9*len(model_df_platform_os))])"
   ]
  }
 ],
 "metadata": {
  "kernelspec": {
   "display_name": "Python 3",
   "language": "python",
   "name": "python3"
  },
  "language_info": {
   "codemirror_mode": {
    "name": "ipython",
    "version": 3
   },
   "file_extension": ".py",
   "mimetype": "text/x-python",
   "name": "python",
   "nbconvert_exporter": "python",
   "pygments_lexer": "ipython3",
   "version": "3.8.8"
  }
 },
 "nbformat": 4,
 "nbformat_minor": 5
}
