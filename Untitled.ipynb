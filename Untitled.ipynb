{
 "cells": [],
 "metadata": {
  "kernelspec": {
   "name": "python3",
   "display_name": "Python 3.9.2 64-bit ('abtest-mlops': venv)"
  },
  "language_info": {
   "codemirror_mode": {
    "name": "ipython",
    "version": 3
   },
   "file_extension": ".py",
   "mimetype": "text/x-python",
   "name": "python",
   "nbconvert_exporter": "python",
   "pygments_lexer": "ipython3",
   "version": "3.9.2"
  },
  "interpreter": {
   "hash": "b4cb580b5f81af8b2cba873b23d9cca6b27386ed00345f77b1fcaeb76c12227c"
  }
 },
 "nbformat": 4,
 "nbformat_minor": 5
}